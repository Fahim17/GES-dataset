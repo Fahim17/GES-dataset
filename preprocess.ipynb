{
 "cells": [
  {
   "cell_type": "markdown",
   "id": "4d4ff90b",
   "metadata": {},
   "source": [
    "# VIGOR preprocess"
   ]
  },
  {
   "cell_type": "code",
   "execution_count": 14,
   "id": "58f26f72",
   "metadata": {},
   "outputs": [
    {
     "data": {
      "text/plain": [
       "array(['SanFrancisco/panorama/UIuM_KSVKxrwTUu6Sd-76Q,37.754428,-122.417596,.jpg',\n",
       "       'Chicago/panorama/Y6UbW6lMrwiIeLmgijSePQ,41.885537,-87.661393,.jpg',\n",
       "       'Chicago/panorama/SuFrWzizbInVCKk5pAa7nQ,41.855571,-87.654800,.jpg',\n",
       "       ...,\n",
       "       'SanFrancisco/panorama/53Z2mIZszVQASXKSqGIzTQ,37.785197,-122.409465,.jpg',\n",
       "       'SanFrancisco/panorama/u0Yqdw1MeqQSB5KBHMG_hA,37.753419,-122.404417,.jpg',\n",
       "       'Chicago/panorama/hfpg8yC05o8_-QPwMBLDMg,41.893370,-87.656910,.jpg'],\n",
       "      dtype=object)"
      ]
     },
     "execution_count": 14,
     "metadata": {},
     "output_type": "execute_result"
    }
   ],
   "source": [
    "import pandas as pd\n",
    "import numpy as np\n",
    "\n",
    "dataset = pd.read_csv('VIGOR_train_temp.csv')\n",
    "dataset.drop(columns=['Unnamed: 1', 'Unnamed: 2'], inplace=True)\n",
    "\n",
    "all_values = dataset.gnd_images.values\n",
    "all_values"
   ]
  },
  {
   "cell_type": "code",
   "execution_count": 15,
   "id": "4e32820f",
   "metadata": {},
   "outputs": [],
   "source": [
    "lat = []\n",
    "long = []\n",
    "\n",
    "for item in all_values:\n",
    "    coordinates = item.split('/')[2].split(',')\n",
    "    lat.append(coordinates[1])\n",
    "    long.append(coordinates[2])\n",
    "\n",
    "d = {'lat':lat, 'long':long}\n",
    "vigor_temp = pd.DataFrame(d)"
   ]
  },
  {
   "cell_type": "code",
   "execution_count": 17,
   "id": "2f14e198",
   "metadata": {},
   "outputs": [],
   "source": [
    "vigor_temp.to_csv('vigor_temp_coordinates.csv')"
   ]
  }
 ],
 "metadata": {
  "kernelspec": {
   "display_name": "base",
   "language": "python",
   "name": "python3"
  },
  "language_info": {
   "codemirror_mode": {
    "name": "ipython",
    "version": 3
   },
   "file_extension": ".py",
   "mimetype": "text/x-python",
   "name": "python",
   "nbconvert_exporter": "python",
   "pygments_lexer": "ipython3",
   "version": "3.11.5"
  }
 },
 "nbformat": 4,
 "nbformat_minor": 5
}
